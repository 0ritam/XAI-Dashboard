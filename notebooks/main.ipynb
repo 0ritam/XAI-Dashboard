{
 "cells": [
  {
   "metadata": {
    "ExecuteTime": {
     "end_time": "2025-08-03T09:24:02.022660Z",
     "start_time": "2025-08-03T09:23:56.432918Z"
    }
   },
   "cell_type": "code",
   "source": [
    "import pandas as pd\n",
    "import os\n",
    "\n",
    "# Function to load OULAD data from CSV files\n",
    "# Using raw strings to handle backslashes in Windows file paths\n",
    "# This function assumes the CSV files are located in the specified directory\n",
    "# and that the directory structure matches the expected format.\n",
    "\n",
    "def load_oulad_data(data_path):\n",
    "    \"\"\"Load all OULAD CSV files into pandas DataFrames\"\"\"\n",
    "\n",
    "    # Core tables - using raw strings\n",
    "    courses = pd.read_csv(rf\"{data_path}\\courses.csv\")\n",
    "    assessments = pd.read_csv(rf\"{data_path}\\assessments.csv\")\n",
    "    vle = pd.read_csv(rf\"{data_path}\\vle.csv\")\n",
    "\n",
    "    # Student data\n",
    "    student_info = pd.read_csv(rf\"{data_path}\\studentInfo.csv\")\n",
    "    student_registration = pd.read_csv(rf\"{data_path}\\studentRegistration.csv\")\n",
    "    student_assessment = pd.read_csv(rf\"{data_path}\\studentAssessment.csv\")\n",
    "    student_vle = pd.read_csv(rf\"{data_path}\\studentVle.csv\")\n",
    "\n",
    "    return {\n",
    "        'courses': courses,\n",
    "        'assessments': assessments,\n",
    "        'vle': vle,\n",
    "        'student_info': student_info,\n",
    "        'student_registration': student_registration,\n",
    "        'student_assessment': student_assessment,\n",
    "        'student_vle': student_vle\n",
    "    }\n",
    "\n",
    "# Load the data - use raw string for path\n",
    "oulad_data = load_oulad_data(r\"C:\\Users\\Ritam\\Projects\\XAIDashboard\\dataset\")"
   ],
   "id": "6181ece2c20bf6d7",
   "outputs": [],
   "execution_count": 1
  },
  {
   "metadata": {
    "ExecuteTime": {
     "end_time": "2025-08-03T09:24:59.406983Z",
     "start_time": "2025-08-03T09:24:59.385233Z"
    }
   },
   "cell_type": "code",
   "source": [
    "#data exploration\n",
    "# Function to explore the main student information table\n",
    "def explore_student_data(oulad_data):\n",
    "    \"\"\"Explore the main student information table\"\"\"\n",
    "\n",
    "    student_info = oulad_data['student_info']\n",
    "\n",
    "    print(\"=== STUDENT INFO EXPLORATION ===\")\n",
    "    print(f\"Shape: {student_info.shape}\")\n",
    "    print(f\"Columns: {list(student_info.columns)}\")\n",
    "    print(\"\\n--- Sample Data ---\")\n",
    "    print(student_info.head(3))\n",
    "\n",
    "    print(\"\\n--- Target Variable Distribution ---\")\n",
    "    print(student_info['final_result'].value_counts())\n",
    "    print(student_info['final_result'].value_counts(normalize=True).round(3))\n",
    "\n",
    "    print(\"\\n--- Demographic Breakdown ---\")\n",
    "    print(\"Gender:\", student_info['gender'].value_counts().to_dict())\n",
    "    print(\"Age bands:\", student_info['age_band'].value_counts().to_dict())\n",
    "    print(\"Disability:\", student_info['disability'].value_counts().to_dict())\n",
    "\n",
    "# Run exploration\n",
    "explore_student_data(oulad_data)"
   ],
   "id": "576f3cdcd4cfa1c5",
   "outputs": [
    {
     "name": "stdout",
     "output_type": "stream",
     "text": [
      "=== STUDENT INFO EXPLORATION ===\n",
      "Shape: (32593, 12)\n",
      "Columns: ['code_module', 'code_presentation', 'id_student', 'gender', 'region', 'highest_education', 'imd_band', 'age_band', 'num_of_prev_attempts', 'studied_credits', 'disability', 'final_result']\n",
      "\n",
      "--- Sample Data ---\n",
      "  code_module code_presentation  id_student gender                region  \\\n",
      "0         AAA             2013J       11391      M   East Anglian Region   \n",
      "1         AAA             2013J       28400      F              Scotland   \n",
      "2         AAA             2013J       30268      F  North Western Region   \n",
      "\n",
      "       highest_education imd_band age_band  num_of_prev_attempts  \\\n",
      "0       HE Qualification  90-100%     55<=                     0   \n",
      "1       HE Qualification   20-30%    35-55                     0   \n",
      "2  A Level or Equivalent   30-40%    35-55                     0   \n",
      "\n",
      "   studied_credits disability final_result  \n",
      "0              240          N         Pass  \n",
      "1               60          N         Pass  \n",
      "2               60          Y    Withdrawn  \n",
      "\n",
      "--- Target Variable Distribution ---\n",
      "final_result\n",
      "Pass           12361\n",
      "Withdrawn      10156\n",
      "Fail            7052\n",
      "Distinction     3024\n",
      "Name: count, dtype: int64\n",
      "final_result\n",
      "Pass           0.379\n",
      "Withdrawn      0.312\n",
      "Fail           0.216\n",
      "Distinction    0.093\n",
      "Name: proportion, dtype: float64\n",
      "\n",
      "--- Demographic Breakdown ---\n",
      "Gender: {'M': 17875, 'F': 14718}\n",
      "Age bands: {'0-35': 22944, '35-55': 9433, '55<=': 216}\n",
      "Disability: {'N': 29429, 'Y': 3164}\n"
     ]
    }
   ],
   "execution_count": 2
  },
  {
   "metadata": {
    "ExecuteTime": {
     "end_time": "2025-08-03T09:27:51.397341Z",
     "start_time": "2025-08-03T09:27:51.297649Z"
    }
   },
   "cell_type": "code",
   "source": [
    "#Check VLE Engagement Patterns\n",
    "def explore_vle_data(oulad_data):\n",
    "    \"\"\"Explore VLE interaction patterns\"\"\"\n",
    "\n",
    "    student_vle = oulad_data['student_vle']\n",
    "\n",
    "    print(\"=== VLE INTERACTION EXPLORATION ===\")\n",
    "    print(f\"Total interactions: {len(student_vle):,}\")\n",
    "    print(f\"Unique students with VLE data: {student_vle['id_student'].nunique():,}\")\n",
    "\n",
    "    # Basic statistics\n",
    "    print(f\"Clicks per interaction - Mean: {student_vle['sum_click'].mean():.1f}, Max: {student_vle['sum_click'].max()}\")\n",
    "\n",
    "    # Activity patterns\n",
    "    activity_types = oulad_data['vle']['activity_type'].value_counts().head(10)\n",
    "    print(\"\\n--- Top Activity Types ---\")\n",
    "    print(activity_types)\n",
    "\n",
    "# Run VLE exploration\n",
    "explore_vle_data(oulad_data)\n",
    "\n"
   ],
   "id": "9ba91e8baabe9c1",
   "outputs": [
    {
     "name": "stdout",
     "output_type": "stream",
     "text": [
      "=== VLE INTERACTION EXPLORATION ===\n",
      "Total interactions: 10,655,280\n",
      "Unique students with VLE data: 26,074\n",
      "Clicks per interaction - Mean: 3.7, Max: 6977\n",
      "\n",
      "--- Top Activity Types ---\n",
      "activity_type\n",
      "resource         2660\n",
      "subpage          1055\n",
      "oucontent         996\n",
      "url               886\n",
      "forumng           194\n",
      "quiz              127\n",
      "page              102\n",
      "oucollaborate      82\n",
      "questionnaire      61\n",
      "ouwiki             49\n",
      "Name: count, dtype: int64\n"
     ]
    }
   ],
   "execution_count": 3
  },
  {
   "metadata": {
    "ExecuteTime": {
     "end_time": "2025-08-03T09:29:00.233242Z",
     "start_time": "2025-08-03T09:28:59.698040Z"
    }
   },
   "cell_type": "code",
   "source": [
    "#Assess Data Quality\n",
    "def assess_data_quality(oulad_data):\n",
    "    \"\"\"Quick data quality assessment\"\"\"\n",
    "\n",
    "    print(\"=== DATA QUALITY ASSESSMENT ===\")\n",
    "\n",
    "    for table_name, df in oulad_data.items():\n",
    "        missing_pct = (df.isnull().sum().sum() / (len(df) * len(df.columns))) * 100\n",
    "        print(f\"{table_name}: {missing_pct:.1f}% missing values\")\n",
    "\n",
    "        if missing_pct > 0:\n",
    "            missing_cols = df.isnull().sum()\n",
    "            critical_missing = missing_cols[missing_cols > len(df) * 0.1]  # >10% missing\n",
    "            if len(critical_missing) > 0:\n",
    "                print(f\"  ⚠️  High missingness in: {critical_missing.to_dict()}\")\n",
    "\n",
    "# Run quality assessment\n",
    "assess_data_quality(oulad_data)\n"
   ],
   "id": "542f4321f752e7de",
   "outputs": [
    {
     "name": "stdout",
     "output_type": "stream",
     "text": [
      "=== DATA QUALITY ASSESSMENT ===\n",
      "courses: 0.0% missing values\n",
      "assessments: 0.9% missing values\n",
      "vle: 27.5% missing values\n",
      "  ⚠️  High missingness in: {'week_from': 5243, 'week_to': 5243}\n",
      "student_info: 0.3% missing values\n",
      "student_registration: 13.8% missing values\n",
      "  ⚠️  High missingness in: {'date_unregistration': 22521}\n",
      "student_assessment: 0.0% missing values\n",
      "student_vle: 0.0% missing values\n"
     ]
    }
   ],
   "execution_count": 4
  }
 ],
 "metadata": {},
 "nbformat": 4,
 "nbformat_minor": 5
}
